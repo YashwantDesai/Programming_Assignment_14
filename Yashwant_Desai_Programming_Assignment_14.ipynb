{
 "cells": [
  {
   "cell_type": "markdown",
   "id": "0c27a818",
   "metadata": {},
   "source": [
    "# Yashwant Desai –  Programming_Assingment 14"
   ]
  },
  {
   "cell_type": "markdown",
   "id": "edc2b615",
   "metadata": {},
   "source": [
    "# Question 1:\n",
    "Define a class with a generator which can iterate the numbers, which are divisible by 7, between a given range 0 and n."
   ]
  },
  {
   "cell_type": "code",
   "execution_count": 2,
   "id": "ca011aa2",
   "metadata": {},
   "outputs": [
    {
     "name": "stdout",
     "output_type": "stream",
     "text": [
      "0\n",
      "7\n",
      "14\n",
      "21\n",
      "28\n",
      "35\n",
      "42\n",
      "49\n"
     ]
    }
   ],
   "source": [
    "class DivisibleBy7:\n",
    "    def __init__(self, n):\n",
    "        self.n = n\n",
    "    def generate(self):\n",
    "        for num in range(self.n + 1):\n",
    "            if num % 7 == 0:\n",
    "                yield num\n",
    "n = 50\n",
    "divisible_by_7_gen = DivisibleBy7(n)\n",
    "for num in divisible_by_7_gen.generate():\n",
    "    print(num)"
   ]
  },
  {
   "cell_type": "markdown",
   "id": "0819afe4",
   "metadata": {},
   "source": [
    "# Question 2:\n",
    "Write a program to compute the frequency of the words from the input. The output should output after sorting the key alphanumerically. \n",
    "Suppose the following input is supplied to the program:\n",
    "New to Python or choosing between Python 2 and Python 3? Read Python 2 or Python 3.\n",
    "Then, the output should be:\n",
    "2:2\n",
    "3.:1\n",
    "3?:1\n",
    "New:1\n",
    "Python:5\n",
    "Read:1\n",
    "and:1\n",
    "between:1\n",
    "choosing:1\n",
    "or:2\n",
    "to:1"
   ]
  },
  {
   "cell_type": "code",
   "execution_count": 7,
   "id": "781592e8",
   "metadata": {},
   "outputs": [
    {
     "name": "stdout",
     "output_type": "stream",
     "text": [
      "result:\n",
      "2:2\n",
      "3.:1\n",
      "3?:1\n",
      "New:1\n",
      "Python:5\n",
      "Read:1\n",
      "and:1\n",
      "between:1\n",
      "choosing:1\n",
      "or:2\n",
      "to:1\n"
     ]
    }
   ],
   "source": [
    "def compute_word_frequency(user_input):\n",
    "    words = user_input.split()\n",
    "    word_freq = {}\n",
    "    for word in words:\n",
    "        word_freq[word] = word_freq.get(word, 0) + 1\n",
    "    sorted_freq = sorted(word_freq.items())\n",
    "    for word, freq in sorted_freq:\n",
    "        print(f\"{word}:{freq}\")\n",
    "if __name__ == \"__main__\":\n",
    "    #input_str = input(\"Enter a sentence: \")\n",
    "    user_input = (\"New to Python or choosing between Python 2 and Python 3? Read Python 2 or Python 3.\")\n",
    "    print(\"result:\")\n",
    "    compute_word_frequency(user_input)"
   ]
  },
  {
   "cell_type": "markdown",
   "id": "3a043b20",
   "metadata": {},
   "source": [
    "# Question 4:\n",
    "Please write a program to generate all sentences where subject is in [\"I\", \"You\"] and verb is in [\"Play\", \"Love\"] and the object is in [\"Hockey\",\"Football\"]."
   ]
  },
  {
   "cell_type": "code",
   "execution_count": 10,
   "id": "8d14a82f",
   "metadata": {},
   "outputs": [
    {
     "name": "stdout",
     "output_type": "stream",
     "text": [
      "I Play Hockey.\n",
      "I Play Football.\n",
      "I Love Hockey.\n",
      "I Love Football.\n",
      "You Play Hockey.\n",
      "You Play Football.\n",
      "You Love Hockey.\n",
      "You Love Football.\n"
     ]
    }
   ],
   "source": [
    "subjects = [\"I\",\"You\"]\n",
    "verbs = [\"Play\",\"Love\"]\n",
    "objects = [\"Hockey\",\"Football\"]\n",
    "for subject in subjects:\n",
    "    for verb in verbs:\n",
    "        for objct in objects:\n",
    "            sentence = (f\"{subject} {verb} {objct}.\")\n",
    "            print(sentence)"
   ]
  },
  {
   "cell_type": "markdown",
   "id": "f3ffef2d",
   "metadata": {},
   "source": [
    "# Question 5:\n",
    "Please write a program to compress and decompress the string \"hello world!hello world!hello world!hello world!\"."
   ]
  },
  {
   "cell_type": "code",
   "execution_count": 15,
   "id": "57c53127",
   "metadata": {},
   "outputs": [
    {
     "name": "stdout",
     "output_type": "stream",
     "text": [
      "user input: hello world!hello world!hello world!hello world!\n",
      "Compressed String: 789ccb48cdc9c95728cf2fca4951cc20820d00bd5b11f5\n",
      "Decompressed String: hello world!hello world!hello world!hello world!\n"
     ]
    }
   ],
   "source": [
    "import zlib\n",
    "def compress_string(input_str):\n",
    "    return zlib.compress(input_str.encode()).hex()\n",
    "def decompress_string(compressed_string):\n",
    "    compressed_bytes = bytes.fromhex(compressed_string)\n",
    "    return zlib.decompress(compressed_bytes).decode()\n",
    "original_string = \"hello world!hello world!hello world!hello world!\"\n",
    "print(f\"user input: {original_string}\")\n",
    "compressed_string = compress_string(original_string)\n",
    "print(\"Compressed String:\", compressed_string)\n",
    "decompressed_string = decompress_string(compressed_string)\n",
    "print(\"Decompressed String:\", decompressed_string)"
   ]
  },
  {
   "cell_type": "markdown",
   "id": "bbf2f78e",
   "metadata": {},
   "source": [
    "# Question 6:\n",
    "Please write a binary search function which searches an item in a sorted list. The function should return the index of element to be searched in the list."
   ]
  },
  {
   "cell_type": "code",
   "execution_count": 25,
   "id": "c341b207",
   "metadata": {},
   "outputs": [
    {
     "name": "stdout",
     "output_type": "stream",
     "text": [
      "Element 888 found at index 4.\n"
     ]
    }
   ],
   "source": [
    "def binary_search(s_list, search):\n",
    "    left, right = 0, len(s_list) - 1\n",
    "    while left <= right:\n",
    "        mid = left + (right - left) // 2\n",
    "        if s_list[mid] == search:\n",
    "            return mid\n",
    "        elif s_list[mid] < search:\n",
    "            left = mid + 1\n",
    "        else:\n",
    "            right = mid - 1\n",
    "    return -1\n",
    "sorted_list = [100, 300, 500, 700, 888, 900, 1300, 1500, 1700, 1900]\n",
    "target_element = 888\n",
    "index = binary_search(sorted_list, target_element)\n",
    "if index != -1:\n",
    "    print(f\"Element {target_element} found at index {index}.\")\n",
    "else:\n",
    "    print(f\"Element {target_element} not found in the list.\")"
   ]
  },
  {
   "cell_type": "markdown",
   "id": "a79c0885",
   "metadata": {},
   "source": [
    "# Done Regards,Yashwant"
   ]
  }
 ],
 "metadata": {
  "kernelspec": {
   "display_name": "Python 3 (ipykernel)",
   "language": "python",
   "name": "python3"
  },
  "language_info": {
   "codemirror_mode": {
    "name": "ipython",
    "version": 3
   },
   "file_extension": ".py",
   "mimetype": "text/x-python",
   "name": "python",
   "nbconvert_exporter": "python",
   "pygments_lexer": "ipython3",
   "version": "3.9.13"
  }
 },
 "nbformat": 4,
 "nbformat_minor": 5
}
